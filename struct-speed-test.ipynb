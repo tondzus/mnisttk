{
 "worksheets": [
  {
   "cells": [
    {
     "cell_type": "code",
     "execution_count": null,
     "metadata": {},
     "outputs": [],
     "input": [
      "import struct\n",
      "from functools import reduce\n",
      "from operator import mul"
     ],
     "language": "python",
     "prompt_number": 35
    },
    {
     "cell_type": "code",
     "execution_count": null,
     "metadata": {},
     "outputs": [],
     "input": [
      "idx_path = '/home/stderr/Downloads/t10k-images.idx3-ubyte'\n",
      "byte_buffer = open(idx_path, 'rb').read()"
     ],
     "language": "python",
     "prompt_number": 36
    },
    {
     "cell_type": "code",
     "execution_count": null,
     "metadata": {},
     "outputs": [],
     "input": [
      "dt, dim_count = struct.unpack('>xxcb', byte_buffer[:4])\n",
      "offset = 4 + 4 * dim_count\n",
      "dimensions = struct.unpack('>' + 'i' * dim_count, byte_buffer[4:offset])\n",
      "number_count = reduce(mul, dimensions)"
     ],
     "language": "python",
     "prompt_number": 37
    },
    {
     "cell_type": "code",
     "execution_count": null,
     "metadata": {},
     "outputs": [
      {
       "output_type": "stream",
       "stream": "stdout",
       "text": [
        "10 loops, best of 3: 70.8 ms per loop\n"
       ]
      }
     ],
     "input": [
      "%%timeit\n",
      "# read full idx file at once\n",
      "data = struct.unpack('>' + 'B' * number_count, byte_buffer[offset:])"
     ],
     "language": "python",
     "prompt_number": 46
    },
    {
     "cell_type": "code",
     "execution_count": null,
     "metadata": {},
     "outputs": [
      {
       "output_type": "stream",
       "stream": "stdout",
       "text": [
        "10 loops, best of 3: 110 ms per loop\n"
       ]
      }
     ],
     "input": [
      "%%timeit\n",
      "# read idx file by chunks\n",
      "chunk_size = number_count\n",
      "data = []\n",
      "for start in range(0, number_count, chunk_size):\n",
      "    temp_buf = byte_buffer[offset+start:offset+start+chunk_size]\n",
      "    data.extend(struct.unpack('>' + 'B' * len(temp_buf), temp_buf))"
     ],
     "language": "python",
     "prompt_number": 49
    },
    {
     "cell_type": "code",
     "execution_count": null,
     "metadata": {},
     "outputs": [],
     "input": [
      ""
     ],
     "language": "python"
    }
   ]
  }
 ],
 "cells": [],
 "metadata": {
  "name": "",
  "signature": "sha256:c57b0b651dc5d060daadaa7c791d1218664261e56f59493fe76df26b017671c4"
 },
 "nbformat": 3,
 "nbformat_minor": 0
}